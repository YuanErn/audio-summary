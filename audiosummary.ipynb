{
  "nbformat": 4,
  "nbformat_minor": 0,
  "metadata": {
    "colab": {
      "provenance": [],
      "authorship_tag": "ABX9TyOE/s7HnoUPkoPK1/pzaufT",
      "include_colab_link": true
    },
    "kernelspec": {
      "name": "python3",
      "display_name": "Python 3"
    },
    "language_info": {
      "name": "python"
    },
    "accelerator": "GPU",
    "gpuClass": "standard"
  },
  "cells": [
    {
      "cell_type": "markdown",
      "metadata": {
        "id": "view-in-github",
        "colab_type": "text"
      },
      "source": [
        "<a href=\"https://colab.research.google.com/github/YuanErn/audio-summary/blob/main/audiosummary.ipynb\" target=\"_parent\"><img src=\"https://colab.research.google.com/assets/colab-badge.svg\" alt=\"Open In Colab\"/></a>"
      ]
    },
    {
      "cell_type": "code",
      "source": [
        "pip install openai"
      ],
      "metadata": {
        "id": "SzxGDzA1o8IQ"
      },
      "execution_count": null,
      "outputs": []
    },
    {
      "cell_type": "code",
      "source": [
        "pip install openai-whisper"
      ],
      "metadata": {
        "id": "d7g-mjsPpAY_"
      },
      "execution_count": null,
      "outputs": []
    },
    {
      "cell_type": "code",
      "execution_count": null,
      "metadata": {
        "id": "BHo_1Ahmc6O2"
      },
      "outputs": [],
      "source": [
        "import whisper\n",
        "import json\n",
        "import openai\n",
        "import time\n",
        "\n",
        "# Timing the program\n",
        "startTime = time.perf_counter()\n",
        "\n",
        "# API Key from OpenAI\n",
        "secret_file = open(\"API.txt\", \"r\")\n",
        "openai.api_key = secret_file.readline()\n",
        "secret_file.close()\n",
        "\n",
        "whisperModel = whisper.load_model(\"large-v1\")\n",
        "whisperAudio = whisper.load_audio(\"testing2.mp4\")# Name of the file here\n",
        "\n",
        "# This moves the audio to the same device as the model (cuda if enabled)\n",
        "mel = whisper.log_mel_spectrogram(whisperAudio).to(whisperModel.device)\n",
        "\n",
        "whisperResult = str(whisperModel.transcribe(whisperAudio, language = \"Chinese\"))# Specify language when possible\n",
        "\n",
        "# Context for the data. This will be passed on to ChatGPT\n",
        "audioTopic = \"a meeting session for trial balance dashboard review session\" # What was the audio about?\n",
        "partiesInvolved = \"developer and client\" # To whom did the voices in the audio belong to?\n",
        "actionToDo = \"summarize this meeting into meeting minutes. Point form with great details into the topics\" # What do u want to be done with this information\n",
        "prompt = \"This is \" + audioTopic + \" between \" + partiesInvolved + \".\" + actionToDo\n",
        "\n",
        "# Settings for the model\n",
        "response = openai.ChatCompletion.create(\n",
        "    model=\"gpt-3.5-turbo\", \n",
        "    messages=[{\"role\":\"user\", \"content\": prompt}]\n",
        ")\n",
        "\n",
        "# Print the generated text\n",
        "preTransform = str(response.choices[0])\n",
        "postTransform = json.loads(preTransform)\n",
        "answer = postTransform[\"message\"][\"content\"]\n",
        "\n",
        "print (answer)\n",
        "print (\"Completed in\", time.strftime(\"%H:%M:%S\", time.gmtime(time.perf_counter() - startTime)))\n"
      ]
    }
  ]
}